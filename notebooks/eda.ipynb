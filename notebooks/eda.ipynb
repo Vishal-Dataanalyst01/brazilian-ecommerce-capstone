{
 "cells": [
  {
   "cell_type": "markdown",
   "id": "b16ae7e9",
   "metadata": {},
   "source": [
    "# 🧪 Exploratory Data Analysis (EDA) - Olist E-Commerce Dataset"
   ]
  },
  {
   "cell_type": "markdown",
   "id": "e311113a",
   "metadata": {},
   "source": [
    "\n",
    "Welcome to your first Python notebook, Vishal! 👋  \n",
    "This notebook will walk you through basic exploratory data analysis (EDA) using Pandas and Matplotlib.\n",
    "\n",
    "We'll start by loading the dataset, checking for issues, and understanding what it contains.\n"
   ]
  },
  {
   "cell_type": "code",
   "execution_count": null,
   "id": "c896318a",
   "metadata": {},
   "outputs": [],
   "source": [
    "\n",
    "# 📦 Import necessary libraries\n",
    "import pandas as pd\n",
    "import matplotlib.pyplot as plt\n",
    "%matplotlib inline  # So that plots appear below the code cell\n"
   ]
  },
  {
   "cell_type": "code",
   "execution_count": null,
   "id": "5c38a844",
   "metadata": {},
   "outputs": [],
   "source": [
    "\n",
    "# 📂 Load the raw Olist orders dataset (adjust path if needed)\n",
    "file_path = '../data/raw/olist_orders_dataset.xlsx'\n",
    "df = pd.read_excel(file_path)\n",
    "\n",
    "# 👁️ View first few rows\n",
    "df.head()\n"
   ]
  },
  {
   "cell_type": "code",
   "execution_count": null,
   "id": "45a094ed",
   "metadata": {},
   "outputs": [],
   "source": [
    "\n",
    "# 🧠 Check the structure of the dataset\n",
    "df.info()\n"
   ]
  },
  {
   "cell_type": "code",
   "execution_count": null,
   "id": "f353cad5",
   "metadata": {},
   "outputs": [],
   "source": [
    "\n",
    "# 🔍 Check for missing values\n",
    "df.isnull().sum()\n"
   ]
  },
  {
   "cell_type": "code",
   "execution_count": null,
   "id": "e87e7481",
   "metadata": {},
   "outputs": [],
   "source": [
    "\n",
    "# 📊 Summary statistics for numeric columns\n",
    "df.describe()\n"
   ]
  },
  {
   "cell_type": "markdown",
   "id": "f0fd5616",
   "metadata": {},
   "source": [
    "\n",
    "## ✅ What’s Next:\n",
    "- Identify columns to clean (nulls, wrong types, etc.)\n",
    "- Convert date columns to datetime\n",
    "- Begin grouping by category, date, or region\n",
    "\n",
    "Let’s take it one block at a time! 💪\n"
   ]
  }
 ],
 "metadata": {},
 "nbformat": 4,
 "nbformat_minor": 5
}
